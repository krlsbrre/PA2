{
 "cells": [
  {
   "cell_type": "markdown",
   "id": "d99b7a56-018e-4159-92d8-89c113ac7fb7",
   "metadata": {},
   "source": [
    "#"
   ]
  },
  {
   "cell_type": "markdown",
   "id": "5c2b7b46-373e-432b-9188-bbb59f17844a",
   "metadata": {},
   "source": [
    "# NORMALIZATION"
   ]
  },
  {
   "cell_type": "markdown",
   "id": "a3e75d3c-d5b7-4a10-b14d-ea257cb33502",
   "metadata": {},
   "source": [
    "## Normalization is one of the most basic preprocessing techniques in\n",
    "data analytics. This involves centering and scaling process. Centering means subtracting the data from the\n",
    "mean and scaling means dividing with its standard deviation. Mathematically, normalization can be\n",
    "expressed as: 𝑍 = ( 𝑋 − 𝑥̅ ) / 𝜎\n",
    "In Python, element-wise mean and element-wise standard deviation can be obtained by using .mean() and\n",
    ".std() calls.\n",
    "In this problem, create a random 5 x 5 ndarray and store it to variable X. Normalize X. Save your normalized\n",
    "ndarray as X_normalized.npy"
   ]
  },
  {
   "cell_type": "code",
   "execution_count": 323,
   "id": "468aed80-2cd2-46f6-81d4-6980f9012657",
   "metadata": {},
   "outputs": [
    {
     "data": {
      "text/plain": [
       "array([[-1.53235353, -1.91931149, -1.14539557,  0.78939424,  1.56331016],\n",
       "       [ 0.01547832,  0.78939424,  0.40243628,  0.01547832,  0.40243628],\n",
       "       [ 0.01547832,  1.1763522 ,  1.56331016,  0.01547832, -0.7584376 ],\n",
       "       [-0.7584376 ,  1.56331016,  0.78939424,  0.01547832,  0.78939424],\n",
       "       [ 0.01547832, -0.37147964, -1.53235353, -1.53235353, -0.37147964]])"
      ]
     },
     "execution_count": 323,
     "metadata": {},
     "output_type": "execute_result"
    }
   ],
   "source": [
    "import numpy as np\n",
    "#Creates a random 5x5 ndarray and stored in the x variable. There's an additional parameter so that the random numbers produced is bounded from just 0 - 10.\n",
    "x = np.random.randint(0,10,(5,5))\n",
    "#The formula for normalization is stored in z variable.\n",
    "#np.mean gets the mean of the ndarray x and np.std gets the standard deviation of the ndarray x\n",
    "z = (x-(np.mean(x)))/np.std(x)\n",
    "#the ndarray is then saved to 'normalized.npy'\n",
    "np.save('normalized.npy', z) \n",
    "z"
   ]
  },
  {
   "cell_type": "code",
   "execution_count": 325,
   "id": "73295887-a8db-44fb-9cc8-283de2bffd6d",
   "metadata": {},
   "outputs": [
    {
     "data": {
      "text/plain": [
       "array([[-1.53235353, -1.91931149, -1.14539557,  0.78939424,  1.56331016],\n",
       "       [ 0.01547832,  0.78939424,  0.40243628,  0.01547832,  0.40243628],\n",
       "       [ 0.01547832,  1.1763522 ,  1.56331016,  0.01547832, -0.7584376 ],\n",
       "       [-0.7584376 ,  1.56331016,  0.78939424,  0.01547832,  0.78939424],\n",
       "       [ 0.01547832, -0.37147964, -1.53235353, -1.53235353, -0.37147964]])"
      ]
     },
     "execution_count": 325,
     "metadata": {},
     "output_type": "execute_result"
    }
   ],
   "source": [
    "#Loads the 'normalized.npy' file for verification purposes\n",
    "np.load('normalized.npy')"
   ]
  },
  {
   "cell_type": "code",
   "execution_count": 327,
   "id": "df433863-3290-4eff-8b5c-0d11928d18e6",
   "metadata": {},
   "outputs": [
    {
     "data": {
      "text/plain": [
       "array([[1, 0, 2, 7, 9],\n",
       "       [5, 7, 6, 5, 6],\n",
       "       [5, 8, 9, 5, 3],\n",
       "       [3, 9, 7, 5, 7],\n",
       "       [5, 4, 1, 1, 4]])"
      ]
     },
     "execution_count": 327,
     "metadata": {},
     "output_type": "execute_result"
    }
   ],
   "source": [
    "#Displays the random array contents\n",
    "x"
   ]
  },
  {
   "cell_type": "markdown",
   "id": "b1bb37f7-b796-4bee-aee7-3ce656781854",
   "metadata": {},
   "source": [
    "# DIVISIBLE BY 3 PROBLEM: Create the following 10 x 10 ndarray.\r\n",
    "𝐴 = [\n",
    " \n",
    "\r\n",
    "\r\n",
    "1 4 ⋯\n",
    "⋮ ⋮ ⋱ ⋮ ⋮\r\n",
    "8281 8464 ⋯]9801 10000]\r\n",
    "\r\n",
    "\r\n",
    "\r\n",
    "\r\n",
    "which are the squares of the first 100 positive integers.\r\n",
    "From this ndarray, determine all the elements that are divisible by 3. Save the result as div_by_3.np"
   ]
  },
  {
   "cell_type": "code",
   "execution_count": 257,
   "id": "faa56b56-c821-4474-8c06-f6792019d984",
   "metadata": {},
   "outputs": [
    {
     "data": {
      "text/plain": [
       "array([[    1,     4,     9,    16,    25,    36,    49,    64,    81,\n",
       "          100],\n",
       "       [  121,   144,   169,   196,   225,   256,   289,   324,   361,\n",
       "          400],\n",
       "       [  441,   484,   529,   576,   625,   676,   729,   784,   841,\n",
       "          900],\n",
       "       [  961,  1024,  1089,  1156,  1225,  1296,  1369,  1444,  1521,\n",
       "         1600],\n",
       "       [ 1681,  1764,  1849,  1936,  2025,  2116,  2209,  2304,  2401,\n",
       "         2500],\n",
       "       [ 2601,  2704,  2809,  2916,  3025,  3136,  3249,  3364,  3481,\n",
       "         3600],\n",
       "       [ 3721,  3844,  3969,  4096,  4225,  4356,  4489,  4624,  4761,\n",
       "         4900],\n",
       "       [ 5041,  5184,  5329,  5476,  5625,  5776,  5929,  6084,  6241,\n",
       "         6400],\n",
       "       [ 6561,  6724,  6889,  7056,  7225,  7396,  7569,  7744,  7921,\n",
       "         8100],\n",
       "       [ 8281,  8464,  8649,  8836,  9025,  9216,  9409,  9604,  9801,\n",
       "        10000]])"
      ]
     },
     "execution_count": 257,
     "metadata": {},
     "output_type": "execute_result"
    }
   ],
   "source": [
    "#Initializes two empty list to Squared and div3\n",
    "Squared = []\n",
    "div3=[]\n",
    "#Loops through from 1-100 and squares each iteration and appends it to the \"Squared\" list\n",
    "for y in range(1, 101):\n",
    "    Squared.append(y**2)\n",
    "#Stores the \"Squared\" list to an ndarray \"q\" and reshapes it to 10x10\n",
    "q = np.array(Squared).reshape(10,10)\n",
    "\n",
    "#uses the now occupied list and iterates through it\n",
    "#It has a condition wherein it will only append i to div3 list if it is divisible by 3.\n",
    "for i in Squared:\n",
    "    if i%3 == 0:\n",
    "        div3.append(i)\n",
    "#saves the div3 list to \"div by 3.npy\"\n",
    "np.save('div by 3.npy', div3)\n",
    "#To show the 10x10 ndarray\n",
    "q"
   ]
  },
  {
   "cell_type": "code",
   "execution_count": 263,
   "id": "a24fba47-141c-438f-a247-b3999200a522",
   "metadata": {},
   "outputs": [
    {
     "data": {
      "text/plain": [
       "array([   9,   36,   81,  144,  225,  324,  441,  576,  729,  900, 1089,\n",
       "       1296, 1521, 1764, 2025, 2304, 2601, 2916, 3249, 3600, 3969, 4356,\n",
       "       4761, 5184, 5625, 6084, 6561, 7056, 7569, 8100, 8649, 9216, 9801])"
      ]
     },
     "execution_count": 263,
     "metadata": {},
     "output_type": "execute_result"
    }
   ],
   "source": [
    "#loads the div by 3.npy to verify the answers\n",
    "np.load('div by 3.npy')"
   ]
  },
  {
   "cell_type": "code",
   "execution_count": 321,
   "id": "d1dc2d27-fce2-4137-b837-e6de6d337a3c",
   "metadata": {},
   "outputs": [
    {
     "name": "stdout",
     "output_type": "stream",
     "text": [
      "9\n",
      "36\n",
      "81\n",
      "144\n",
      "225\n",
      "324\n",
      "441\n",
      "576\n",
      "729\n",
      "900\n",
      "1089\n",
      "1296\n",
      "1521\n",
      "1764\n",
      "2025\n",
      "2304\n",
      "2601\n",
      "2916\n",
      "3249\n",
      "3600\n",
      "3969\n",
      "4356\n",
      "4761\n",
      "5184\n",
      "5625\n",
      "6084\n",
      "6561\n",
      "7056\n",
      "7569\n",
      "8100\n",
      "8649\n",
      "9216\n",
      "9801\n"
     ]
    }
   ],
   "source": [
    "#For verification purposes\n",
    "#This shows all the divisible numbers by 3 starting from 3 to 100\n",
    "for p in range(3, 101, 3):\n",
    "    q = p**2\n",
    "    print(q)"
   ]
  }
 ],
 "metadata": {
  "kernelspec": {
   "display_name": "Python 3 (ipykernel)",
   "language": "python",
   "name": "python3"
  },
  "language_info": {
   "codemirror_mode": {
    "name": "ipython",
    "version": 3
   },
   "file_extension": ".py",
   "mimetype": "text/x-python",
   "name": "python",
   "nbconvert_exporter": "python",
   "pygments_lexer": "ipython3",
   "version": "3.12.4"
  }
 },
 "nbformat": 4,
 "nbformat_minor": 5
}
