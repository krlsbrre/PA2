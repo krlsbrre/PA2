{
 "cells": [
  {
   "cell_type": "markdown",
   "id": "d99b7a56-018e-4159-92d8-89c113ac7fb7",
   "metadata": {},
   "source": [
    "#"
   ]
  },
  {
   "cell_type": "markdown",
   "id": "5c2b7b46-373e-432b-9188-bbb59f17844a",
   "metadata": {},
   "source": [
    "# NORMALIZATION"
   ]
  },
  {
   "cell_type": "markdown",
   "id": "a3e75d3c-d5b7-4a10-b14d-ea257cb33502",
   "metadata": {},
   "source": [
    "## Normalization is one of the most basic preprocessing techniques in\n",
    "data analytics. This involves centering and scaling process. Centering means subtracting the data from the\n",
    "mean and scaling means dividing with its standard deviation. Mathematically, normalization can be\n",
    "expressed as: 𝑍 = ( 𝑋 − 𝑥̅ ) / 𝜎\n",
    "In Python, element-wise mean and element-wise standard deviation can be obtained by using .mean() and\n",
    ".std() calls.\n",
    "In this problem, create a random 5 x 5 ndarray and store it to variable X. Normalize X. Save your normalized\n",
    "ndarray as X_normalized.npy"
   ]
  },
  {
   "cell_type": "code",
   "execution_count": 351,
   "id": "468aed80-2cd2-46f6-81d4-6980f9012657",
   "metadata": {},
   "outputs": [
    {
     "data": {
      "text/plain": [
       "array([[-0.71603901,  1.23679465,  0.26037782,  1.23679465, -1.36698357],\n",
       "       [ 1.23679465, -0.39056673, -1.04151129,  0.26037782,  0.5858501 ],\n",
       "       [ 0.91132238,  0.91132238,  1.23679465, -1.04151129, -1.69245584],\n",
       "       [ 0.26037782,  0.5858501 ,  0.91132238, -1.36698357,  0.5858501 ],\n",
       "       [-1.36698357, -0.39056673, -1.69245584,  0.91132238, -0.06509446]])"
      ]
     },
     "execution_count": 351,
     "metadata": {},
     "output_type": "execute_result"
    }
   ],
   "source": [
    "import numpy as np\n",
    "#Creates a random 5x5 ndarray and stored in the x variable. There's an additional parameter so that the random numbers produced is bounded from just 0 - 10.\n",
    "x = np.random.randint(0,10,(5,5))\n",
    "#The formula for normalization is stored in z variable.\n",
    "#np.mean gets the mean of the ndarray x and np.std gets the standard deviation of the ndarray x\n",
    "z = (x-(np.mean(x)))/np.std(x)\n",
    "#the ndarray is then saved to 'normalized.npy'\n",
    "np.save('normalized.npy', z) \n",
    "z"
   ]
  },
  {
   "cell_type": "markdown",
   "id": "45462849-fecb-4e97-8444-1aff66dbb064",
   "metadata": {},
   "source": [
    "## Verification\n",
    "##### Expected output: The ndarray is successfully saved"
   ]
  },
  {
   "cell_type": "code",
   "execution_count": 354,
   "id": "d7435e03-ff57-4e2a-984f-e5ebcbdbe055",
   "metadata": {},
   "outputs": [
    {
     "name": "stdout",
     "output_type": "stream",
     "text": [
      "The ndarray is successfully saved\n"
     ]
    }
   ],
   "source": [
    "#Loads the 'normalized.npy' file for verification purposes\n",
    "o = np.load('normalized.npy')\n",
    "# this checks if the ndarray stored at variable z is the same as the ndarray loaded and stored at variable o\n",
    "if (z==o).all():\n",
    "    print(\"The ndarray is successfully saved\")\n",
    "else:\n",
    "    print(\"Saving ndarray unsuccessful\")"
   ]
  },
  {
   "cell_type": "markdown",
   "id": "00462afd-100c-4d25-a478-5a36c670d1ea",
   "metadata": {},
   "source": [
    "#### Displays the generated random array for manual verification purposes"
   ]
  },
  {
   "cell_type": "code",
   "execution_count": 357,
   "id": "f9ede84d-5feb-4e6a-b39f-13f1cbb6f095",
   "metadata": {},
   "outputs": [
    {
     "data": {
      "text/plain": [
       "array([[3, 9, 6, 9, 1],\n",
       "       [9, 4, 2, 6, 7],\n",
       "       [8, 8, 9, 2, 0],\n",
       "       [6, 7, 8, 1, 7],\n",
       "       [1, 4, 0, 8, 5]])"
      ]
     },
     "execution_count": 357,
     "metadata": {},
     "output_type": "execute_result"
    }
   ],
   "source": [
    "#Displays the random array contents\n",
    "x"
   ]
  },
  {
   "cell_type": "markdown",
   "id": "b1bb37f7-b796-4bee-aee7-3ce656781854",
   "metadata": {},
   "source": [
    "# DIVISIBLE BY 3 PROBLEM: Create the following 10 x 10 ndarray.\r\n",
    "𝐴 = [\n",
    " \n",
    "\r\n",
    "\r\n",
    "1 4 ⋯\n",
    "⋮ ⋮ ⋱ ⋮ ⋮\r\n",
    "8281 8464 ⋯]9801 10000]\r\n",
    "\r\n",
    "\r\n",
    "\r\n",
    "\r\n",
    "which are the squares of the first 100 positive integers.\r\n",
    "From this ndarray, determine all the elements that are divisible by 3. Save the result as div_by_3.np"
   ]
  },
  {
   "cell_type": "code",
   "execution_count": 360,
   "id": "faa56b56-c821-4474-8c06-f6792019d984",
   "metadata": {},
   "outputs": [
    {
     "data": {
      "text/plain": [
       "array([[    1,     4,     9,    16,    25,    36,    49,    64,    81,\n",
       "          100],\n",
       "       [  121,   144,   169,   196,   225,   256,   289,   324,   361,\n",
       "          400],\n",
       "       [  441,   484,   529,   576,   625,   676,   729,   784,   841,\n",
       "          900],\n",
       "       [  961,  1024,  1089,  1156,  1225,  1296,  1369,  1444,  1521,\n",
       "         1600],\n",
       "       [ 1681,  1764,  1849,  1936,  2025,  2116,  2209,  2304,  2401,\n",
       "         2500],\n",
       "       [ 2601,  2704,  2809,  2916,  3025,  3136,  3249,  3364,  3481,\n",
       "         3600],\n",
       "       [ 3721,  3844,  3969,  4096,  4225,  4356,  4489,  4624,  4761,\n",
       "         4900],\n",
       "       [ 5041,  5184,  5329,  5476,  5625,  5776,  5929,  6084,  6241,\n",
       "         6400],\n",
       "       [ 6561,  6724,  6889,  7056,  7225,  7396,  7569,  7744,  7921,\n",
       "         8100],\n",
       "       [ 8281,  8464,  8649,  8836,  9025,  9216,  9409,  9604,  9801,\n",
       "        10000]])"
      ]
     },
     "execution_count": 360,
     "metadata": {},
     "output_type": "execute_result"
    }
   ],
   "source": [
    "\n",
    "#Creates a 10x10 array that shows all the squares of the first 100 positive integers\n",
    "Squared = (np.arange(1, 101)**2).reshape(10, 10)\n",
    "#Filters the array to only show the numbers divisible by 3 and stores it to div3\n",
    "div3 = Squared[Squared % 3 == 0]\n",
    "#saves the div3 array to \"div by 3.npy\"\n",
    "np.save('div by 3.npy', div3)\n",
    "#To show the generated 10x10 ndarray \n",
    "Squared"
   ]
  },
  {
   "cell_type": "code",
   "execution_count": 362,
   "id": "a24fba47-141c-438f-a247-b3999200a522",
   "metadata": {},
   "outputs": [
    {
     "data": {
      "text/plain": [
       "array([   9,   36,   81,  144,  225,  324,  441,  576,  729,  900, 1089,\n",
       "       1296, 1521, 1764, 2025, 2304, 2601, 2916, 3249, 3600, 3969, 4356,\n",
       "       4761, 5184, 5625, 6084, 6561, 7056, 7569, 8100, 8649, 9216, 9801])"
      ]
     },
     "execution_count": 362,
     "metadata": {},
     "output_type": "execute_result"
    }
   ],
   "source": [
    "#loads the div by 3.npy to verify the answers\n",
    "np.load('div by 3.npy')"
   ]
  },
  {
   "cell_type": "markdown",
   "id": "f398f326-48f6-4064-935a-427695472977",
   "metadata": {},
   "source": [
    "## Verification"
   ]
  },
  {
   "cell_type": "markdown",
   "id": "aa7acd75-8360-4897-99a5-9eeef685c4c9",
   "metadata": {},
   "source": [
    "##### Another method to show all the numbers that are divisible by 3 starting from 3 to 100"
   ]
  },
  {
   "cell_type": "code",
   "execution_count": 366,
   "id": "3dafbe59-bb6d-4ed4-815d-39340e617a43",
   "metadata": {},
   "outputs": [
    {
     "data": {
      "text/plain": [
       "array([   9,   36,   81,  144,  225,  324,  441,  576,  729,  900, 1089,\n",
       "       1296, 1521, 1764, 2025, 2304, 2601, 2916, 3249, 3600, 3969, 4356,\n",
       "       4761, 5184, 5625, 6084, 6561, 7056, 7569, 8100, 8649, 9216, 9801])"
      ]
     },
     "execution_count": 366,
     "metadata": {},
     "output_type": "execute_result"
    }
   ],
   "source": [
    "# defines a function the takes power, array_name, array_data as its' parameters.\n",
    "#array_name variable is used for dynamic file naming\n",
    "def tester(power, array_name, array_data):\n",
    "    #this ensures that the array is wiped clean when the function is called\n",
    "    array_data.clear()\n",
    "    #another method that shows all the numbers that are divisible by 3 starting from 3 to 100\n",
    "    for p in range(3,101,3):\n",
    "        #If the power is 2, the answers will show the numbers that are divisible by 3 starting from 3 to 100\n",
    "        #The power variable is initialized as an empty variable so that it can be changed later on for verification purposes\n",
    "        v = p**power\n",
    "        #appends the numbers to the array_data variable\n",
    "        array_data.append(v)\n",
    "    #Formats the saved file to the array_name\n",
    "    np.save('{}.npy'.format(array_name), array_data)\n",
    "    return np.load('{}.npy'.format(array_name))\n",
    "#initializes an empty list for the test_array and the wrong_array\n",
    "test_array = []\n",
    "wrong_array = []\n",
    "#calls the tester function to generate numbers for the test_array and the wrong_array\n",
    "#the function with the power of 2 is the correct answer.\n",
    "tester(1, \"wrong_array\", wrong_array)\n",
    "tester(2, \"test_array\", test_array)"
   ]
  },
  {
   "cell_type": "markdown",
   "id": "d8b2a5d9-d1a6-445a-b690-98bcd394bf2b",
   "metadata": {},
   "source": [
    "#### Compares the test array to verify the answers if it's identical with the main array\n",
    "##### Expected output: The main array is identical with the test array"
   ]
  },
  {
   "cell_type": "code",
   "execution_count": 369,
   "id": "9a161ef8-d670-4195-9626-629032c2cdfd",
   "metadata": {},
   "outputs": [
    {
     "name": "stdout",
     "output_type": "stream",
     "text": [
      "The main array is identical with the test array\n"
     ]
    }
   ],
   "source": [
    "def compare_and_verify_testarray():\n",
    "    assert np.array_equal(test_array, div3)\n",
    "    print(\"The main array is identical with the test array\")\n",
    "compare_and_verify_testarray()"
   ]
  },
  {
   "cell_type": "markdown",
   "id": "abe4572c-c688-4a1d-82a5-8406e5ca32ca",
   "metadata": {},
   "source": [
    "#### Compares the wrong array to verify if the code is working right\n",
    "##### this will show an error since the main array is not equals with the wrong_array\n",
    "##### Expected output: AssertionError"
   ]
  },
  {
   "cell_type": "code",
   "execution_count": 372,
   "id": "78caf59b-e272-4fc0-a552-81146f3b4c3d",
   "metadata": {},
   "outputs": [
    {
     "ename": "AssertionError",
     "evalue": "",
     "output_type": "error",
     "traceback": [
      "\u001b[1;31m---------------------------------------------------------------------------\u001b[0m",
      "\u001b[1;31mAssertionError\u001b[0m                            Traceback (most recent call last)",
      "Cell \u001b[1;32mIn[372], line 4\u001b[0m\n\u001b[0;32m      2\u001b[0m     \u001b[38;5;28;01massert\u001b[39;00m np\u001b[38;5;241m.\u001b[39marray_equal(wrong_array, div3)\n\u001b[0;32m      3\u001b[0m     \u001b[38;5;28mprint\u001b[39m(\u001b[38;5;124m\"\u001b[39m\u001b[38;5;124mThe main array is identical with the test array\u001b[39m\u001b[38;5;124m\"\u001b[39m)\n\u001b[1;32m----> 4\u001b[0m compare_and_verify_wrongarray()\n",
      "Cell \u001b[1;32mIn[372], line 2\u001b[0m, in \u001b[0;36mcompare_and_verify_wrongarray\u001b[1;34m()\u001b[0m\n\u001b[0;32m      1\u001b[0m \u001b[38;5;28;01mdef\u001b[39;00m \u001b[38;5;21mcompare_and_verify_wrongarray\u001b[39m():\n\u001b[1;32m----> 2\u001b[0m     \u001b[38;5;28;01massert\u001b[39;00m np\u001b[38;5;241m.\u001b[39marray_equal(wrong_array, div3)\n\u001b[0;32m      3\u001b[0m     \u001b[38;5;28mprint\u001b[39m(\u001b[38;5;124m\"\u001b[39m\u001b[38;5;124mThe main array is identical with the test array\u001b[39m\u001b[38;5;124m\"\u001b[39m)\n",
      "\u001b[1;31mAssertionError\u001b[0m: "
     ]
    }
   ],
   "source": [
    "def compare_and_verify_wrongarray():\n",
    "    assert np.array_equal(wrong_array, div3)\n",
    "    print(\"The main array is identical with the test array\")\n",
    "compare_and_verify_wrongarray()"
   ]
  }
 ],
 "metadata": {
  "kernelspec": {
   "display_name": "Python 3 (ipykernel)",
   "language": "python",
   "name": "python3"
  },
  "language_info": {
   "codemirror_mode": {
    "name": "ipython",
    "version": 3
   },
   "file_extension": ".py",
   "mimetype": "text/x-python",
   "name": "python",
   "nbconvert_exporter": "python",
   "pygments_lexer": "ipython3",
   "version": "3.12.4"
  }
 },
 "nbformat": 4,
 "nbformat_minor": 5
}
